{
 "cells": [
  {
   "cell_type": "code",
   "execution_count": 1,
   "id": "51c4f50b",
   "metadata": {},
   "outputs": [],
   "source": [
    "# Importing Libraries"
   ]
  },
  {
   "cell_type": "code",
   "execution_count": 2,
   "id": "1c871b95",
   "metadata": {},
   "outputs": [],
   "source": [
    "from sklearn.ensemble import VotingClassifier\n",
    "from sklearn import model_selection\n",
    "from sklearn.preprocessing import RobustScaler\n",
    "from sklearn.pipeline import Pipeline\n",
    "from sklearn.preprocessing import LabelEncoder\n",
    "from sklearn.model_selection import cross_val_score, KFold, StratifiedKFold\n",
    "from tensorflow.keras import losses\n",
    "from tensorflow.keras.wrappers.scikit_learn import KerasClassifier\n",
    "from tensorflow.keras.optimizers import SGD\n",
    "from tensorflow.keras.layers import Dense, Dropout\n",
    "from tensorflow.keras.models import Sequential\n",
    "from tensorflow.keras.callbacks import EarlyStopping\n",
    "from sklearn.naive_bayes import GaussianNB\n",
    "from sklearn.tree import DecisionTreeClassifier\n",
    "from sklearn.linear_model import LogisticRegression\n",
    "from sklearn.svm import SVC\n",
    "from sklearn.neighbors import KNeighborsClassifier\n",
    "from sklearn.metrics import accuracy_score, recall_score, precision_score, confusion_matrix, precision_recall_curve\n",
    "from sklearn.model_selection import train_test_split\n",
    "import pandas as pd\n",
    "import numpy as np\n",
    "import seaborn as sns\n",
    "from sklearn.metrics import classification_report\n",
    "from sklearn import tree\n",
    "import graphviz\n",
    "from sklearn.utils import class_weight"
   ]
  },
  {
   "cell_type": "code",
   "execution_count": 3,
   "id": "0aebb436",
   "metadata": {},
   "outputs": [],
   "source": [
    "# Data preprocessing"
   ]
  },
  {
   "cell_type": "code",
   "execution_count": 4,
   "id": "d3d9db3f",
   "metadata": {},
   "outputs": [],
   "source": [
    "dataset = pd.read_csv(\"Credit_default_dataset.csv\")"
   ]
  },
  {
   "cell_type": "code",
   "execution_count": 5,
   "id": "dedc6959",
   "metadata": {},
   "outputs": [],
   "source": [
    "# Feature Engineering\n",
    "# Renaming columns, dropping unnecessary columns, and\n",
    "#standardizing column names are common steps to ensure consistency and compatibility with the subsequent analysis \n",
    "#or modeling steps\n"
   ]
  },
  {
   "cell_type": "code",
   "execution_count": 6,
   "id": "9b52e9b3",
   "metadata": {},
   "outputs": [],
   "source": [
    "dataset.rename(columns=lambda X: X.lower(), inplace=True)\n",
    "dataset.drop('id', axis=1, inplace=True)\n",
    "dataset.rename(columns={'default.payment.next.month': 'isDefault'}, inplace=True)"
   ]
  },
  {
   "cell_type": "code",
   "execution_count": 7,
   "id": "2266995f",
   "metadata": {},
   "outputs": [
    {
     "name": "stdout",
     "output_type": "stream",
     "text": [
      "Dataset Info\n",
      "Default Credit Card Clients data -  rows: 30000  columns: 24\n"
     ]
    },
    {
     "data": {
      "text/html": [
       "<div>\n",
       "<style scoped>\n",
       "    .dataframe tbody tr th:only-of-type {\n",
       "        vertical-align: middle;\n",
       "    }\n",
       "\n",
       "    .dataframe tbody tr th {\n",
       "        vertical-align: top;\n",
       "    }\n",
       "\n",
       "    .dataframe thead th {\n",
       "        text-align: right;\n",
       "    }\n",
       "</style>\n",
       "<table border=\"1\" class=\"dataframe\">\n",
       "  <thead>\n",
       "    <tr style=\"text-align: right;\">\n",
       "      <th></th>\n",
       "      <th>limit_bal</th>\n",
       "      <th>sex</th>\n",
       "      <th>education</th>\n",
       "      <th>marriage</th>\n",
       "      <th>age</th>\n",
       "      <th>pay_0</th>\n",
       "      <th>pay_2</th>\n",
       "      <th>pay_3</th>\n",
       "      <th>pay_4</th>\n",
       "      <th>pay_5</th>\n",
       "      <th>...</th>\n",
       "      <th>bill_amt4</th>\n",
       "      <th>bill_amt5</th>\n",
       "      <th>bill_amt6</th>\n",
       "      <th>pay_amt1</th>\n",
       "      <th>pay_amt2</th>\n",
       "      <th>pay_amt3</th>\n",
       "      <th>pay_amt4</th>\n",
       "      <th>pay_amt5</th>\n",
       "      <th>pay_amt6</th>\n",
       "      <th>isDefault</th>\n",
       "    </tr>\n",
       "  </thead>\n",
       "  <tbody>\n",
       "    <tr>\n",
       "      <th>count</th>\n",
       "      <td>30000.000000</td>\n",
       "      <td>30000.000000</td>\n",
       "      <td>30000.000000</td>\n",
       "      <td>30000.000000</td>\n",
       "      <td>30000.000000</td>\n",
       "      <td>30000.000000</td>\n",
       "      <td>30000.000000</td>\n",
       "      <td>30000.000000</td>\n",
       "      <td>30000.000000</td>\n",
       "      <td>30000.000000</td>\n",
       "      <td>...</td>\n",
       "      <td>30000.000000</td>\n",
       "      <td>30000.000000</td>\n",
       "      <td>30000.000000</td>\n",
       "      <td>30000.000000</td>\n",
       "      <td>3.000000e+04</td>\n",
       "      <td>30000.00000</td>\n",
       "      <td>30000.000000</td>\n",
       "      <td>30000.000000</td>\n",
       "      <td>30000.000000</td>\n",
       "      <td>30000.000000</td>\n",
       "    </tr>\n",
       "    <tr>\n",
       "      <th>mean</th>\n",
       "      <td>167484.322667</td>\n",
       "      <td>1.603733</td>\n",
       "      <td>1.853133</td>\n",
       "      <td>1.551867</td>\n",
       "      <td>35.485500</td>\n",
       "      <td>-0.016700</td>\n",
       "      <td>-0.133767</td>\n",
       "      <td>-0.166200</td>\n",
       "      <td>-0.220667</td>\n",
       "      <td>-0.266200</td>\n",
       "      <td>...</td>\n",
       "      <td>43262.948967</td>\n",
       "      <td>40311.400967</td>\n",
       "      <td>38871.760400</td>\n",
       "      <td>5663.580500</td>\n",
       "      <td>5.921163e+03</td>\n",
       "      <td>5225.68150</td>\n",
       "      <td>4826.076867</td>\n",
       "      <td>4799.387633</td>\n",
       "      <td>5215.502567</td>\n",
       "      <td>0.221200</td>\n",
       "    </tr>\n",
       "    <tr>\n",
       "      <th>std</th>\n",
       "      <td>129747.661567</td>\n",
       "      <td>0.489129</td>\n",
       "      <td>0.790349</td>\n",
       "      <td>0.521970</td>\n",
       "      <td>9.217904</td>\n",
       "      <td>1.123802</td>\n",
       "      <td>1.197186</td>\n",
       "      <td>1.196868</td>\n",
       "      <td>1.169139</td>\n",
       "      <td>1.133187</td>\n",
       "      <td>...</td>\n",
       "      <td>64332.856134</td>\n",
       "      <td>60797.155770</td>\n",
       "      <td>59554.107537</td>\n",
       "      <td>16563.280354</td>\n",
       "      <td>2.304087e+04</td>\n",
       "      <td>17606.96147</td>\n",
       "      <td>15666.159744</td>\n",
       "      <td>15278.305679</td>\n",
       "      <td>17777.465775</td>\n",
       "      <td>0.415062</td>\n",
       "    </tr>\n",
       "    <tr>\n",
       "      <th>min</th>\n",
       "      <td>10000.000000</td>\n",
       "      <td>1.000000</td>\n",
       "      <td>0.000000</td>\n",
       "      <td>0.000000</td>\n",
       "      <td>21.000000</td>\n",
       "      <td>-2.000000</td>\n",
       "      <td>-2.000000</td>\n",
       "      <td>-2.000000</td>\n",
       "      <td>-2.000000</td>\n",
       "      <td>-2.000000</td>\n",
       "      <td>...</td>\n",
       "      <td>-170000.000000</td>\n",
       "      <td>-81334.000000</td>\n",
       "      <td>-339603.000000</td>\n",
       "      <td>0.000000</td>\n",
       "      <td>0.000000e+00</td>\n",
       "      <td>0.00000</td>\n",
       "      <td>0.000000</td>\n",
       "      <td>0.000000</td>\n",
       "      <td>0.000000</td>\n",
       "      <td>0.000000</td>\n",
       "    </tr>\n",
       "    <tr>\n",
       "      <th>25%</th>\n",
       "      <td>50000.000000</td>\n",
       "      <td>1.000000</td>\n",
       "      <td>1.000000</td>\n",
       "      <td>1.000000</td>\n",
       "      <td>28.000000</td>\n",
       "      <td>-1.000000</td>\n",
       "      <td>-1.000000</td>\n",
       "      <td>-1.000000</td>\n",
       "      <td>-1.000000</td>\n",
       "      <td>-1.000000</td>\n",
       "      <td>...</td>\n",
       "      <td>2326.750000</td>\n",
       "      <td>1763.000000</td>\n",
       "      <td>1256.000000</td>\n",
       "      <td>1000.000000</td>\n",
       "      <td>8.330000e+02</td>\n",
       "      <td>390.00000</td>\n",
       "      <td>296.000000</td>\n",
       "      <td>252.500000</td>\n",
       "      <td>117.750000</td>\n",
       "      <td>0.000000</td>\n",
       "    </tr>\n",
       "    <tr>\n",
       "      <th>50%</th>\n",
       "      <td>140000.000000</td>\n",
       "      <td>2.000000</td>\n",
       "      <td>2.000000</td>\n",
       "      <td>2.000000</td>\n",
       "      <td>34.000000</td>\n",
       "      <td>0.000000</td>\n",
       "      <td>0.000000</td>\n",
       "      <td>0.000000</td>\n",
       "      <td>0.000000</td>\n",
       "      <td>0.000000</td>\n",
       "      <td>...</td>\n",
       "      <td>19052.000000</td>\n",
       "      <td>18104.500000</td>\n",
       "      <td>17071.000000</td>\n",
       "      <td>2100.000000</td>\n",
       "      <td>2.009000e+03</td>\n",
       "      <td>1800.00000</td>\n",
       "      <td>1500.000000</td>\n",
       "      <td>1500.000000</td>\n",
       "      <td>1500.000000</td>\n",
       "      <td>0.000000</td>\n",
       "    </tr>\n",
       "    <tr>\n",
       "      <th>75%</th>\n",
       "      <td>240000.000000</td>\n",
       "      <td>2.000000</td>\n",
       "      <td>2.000000</td>\n",
       "      <td>2.000000</td>\n",
       "      <td>41.000000</td>\n",
       "      <td>0.000000</td>\n",
       "      <td>0.000000</td>\n",
       "      <td>0.000000</td>\n",
       "      <td>0.000000</td>\n",
       "      <td>0.000000</td>\n",
       "      <td>...</td>\n",
       "      <td>54506.000000</td>\n",
       "      <td>50190.500000</td>\n",
       "      <td>49198.250000</td>\n",
       "      <td>5006.000000</td>\n",
       "      <td>5.000000e+03</td>\n",
       "      <td>4505.00000</td>\n",
       "      <td>4013.250000</td>\n",
       "      <td>4031.500000</td>\n",
       "      <td>4000.000000</td>\n",
       "      <td>0.000000</td>\n",
       "    </tr>\n",
       "    <tr>\n",
       "      <th>max</th>\n",
       "      <td>1000000.000000</td>\n",
       "      <td>2.000000</td>\n",
       "      <td>6.000000</td>\n",
       "      <td>3.000000</td>\n",
       "      <td>79.000000</td>\n",
       "      <td>8.000000</td>\n",
       "      <td>8.000000</td>\n",
       "      <td>8.000000</td>\n",
       "      <td>8.000000</td>\n",
       "      <td>8.000000</td>\n",
       "      <td>...</td>\n",
       "      <td>891586.000000</td>\n",
       "      <td>927171.000000</td>\n",
       "      <td>961664.000000</td>\n",
       "      <td>873552.000000</td>\n",
       "      <td>1.684259e+06</td>\n",
       "      <td>896040.00000</td>\n",
       "      <td>621000.000000</td>\n",
       "      <td>426529.000000</td>\n",
       "      <td>528666.000000</td>\n",
       "      <td>1.000000</td>\n",
       "    </tr>\n",
       "  </tbody>\n",
       "</table>\n",
       "<p>8 rows × 24 columns</p>\n",
       "</div>"
      ],
      "text/plain": [
       "            limit_bal           sex     education      marriage           age  \\\n",
       "count    30000.000000  30000.000000  30000.000000  30000.000000  30000.000000   \n",
       "mean    167484.322667      1.603733      1.853133      1.551867     35.485500   \n",
       "std     129747.661567      0.489129      0.790349      0.521970      9.217904   \n",
       "min      10000.000000      1.000000      0.000000      0.000000     21.000000   \n",
       "25%      50000.000000      1.000000      1.000000      1.000000     28.000000   \n",
       "50%     140000.000000      2.000000      2.000000      2.000000     34.000000   \n",
       "75%     240000.000000      2.000000      2.000000      2.000000     41.000000   \n",
       "max    1000000.000000      2.000000      6.000000      3.000000     79.000000   \n",
       "\n",
       "              pay_0         pay_2         pay_3         pay_4         pay_5  \\\n",
       "count  30000.000000  30000.000000  30000.000000  30000.000000  30000.000000   \n",
       "mean      -0.016700     -0.133767     -0.166200     -0.220667     -0.266200   \n",
       "std        1.123802      1.197186      1.196868      1.169139      1.133187   \n",
       "min       -2.000000     -2.000000     -2.000000     -2.000000     -2.000000   \n",
       "25%       -1.000000     -1.000000     -1.000000     -1.000000     -1.000000   \n",
       "50%        0.000000      0.000000      0.000000      0.000000      0.000000   \n",
       "75%        0.000000      0.000000      0.000000      0.000000      0.000000   \n",
       "max        8.000000      8.000000      8.000000      8.000000      8.000000   \n",
       "\n",
       "       ...      bill_amt4      bill_amt5      bill_amt6       pay_amt1  \\\n",
       "count  ...   30000.000000   30000.000000   30000.000000   30000.000000   \n",
       "mean   ...   43262.948967   40311.400967   38871.760400    5663.580500   \n",
       "std    ...   64332.856134   60797.155770   59554.107537   16563.280354   \n",
       "min    ... -170000.000000  -81334.000000 -339603.000000       0.000000   \n",
       "25%    ...    2326.750000    1763.000000    1256.000000    1000.000000   \n",
       "50%    ...   19052.000000   18104.500000   17071.000000    2100.000000   \n",
       "75%    ...   54506.000000   50190.500000   49198.250000    5006.000000   \n",
       "max    ...  891586.000000  927171.000000  961664.000000  873552.000000   \n",
       "\n",
       "           pay_amt2      pay_amt3       pay_amt4       pay_amt5  \\\n",
       "count  3.000000e+04   30000.00000   30000.000000   30000.000000   \n",
       "mean   5.921163e+03    5225.68150    4826.076867    4799.387633   \n",
       "std    2.304087e+04   17606.96147   15666.159744   15278.305679   \n",
       "min    0.000000e+00       0.00000       0.000000       0.000000   \n",
       "25%    8.330000e+02     390.00000     296.000000     252.500000   \n",
       "50%    2.009000e+03    1800.00000    1500.000000    1500.000000   \n",
       "75%    5.000000e+03    4505.00000    4013.250000    4031.500000   \n",
       "max    1.684259e+06  896040.00000  621000.000000  426529.000000   \n",
       "\n",
       "            pay_amt6     isDefault  \n",
       "count   30000.000000  30000.000000  \n",
       "mean     5215.502567      0.221200  \n",
       "std     17777.465775      0.415062  \n",
       "min         0.000000      0.000000  \n",
       "25%       117.750000      0.000000  \n",
       "50%      1500.000000      0.000000  \n",
       "75%      4000.000000      0.000000  \n",
       "max    528666.000000      1.000000  \n",
       "\n",
       "[8 rows x 24 columns]"
      ]
     },
     "execution_count": 7,
     "metadata": {},
     "output_type": "execute_result"
    }
   ],
   "source": [
    "print(\"Dataset Info\")\n",
    "print(\"Default Credit Card Clients data -  rows:\", dataset.shape[0], \" columns:\", dataset.shape[1])\n",
    "dataset.describe()\n"
   ]
  },
  {
   "cell_type": "code",
   "execution_count": 8,
   "id": "b2176033",
   "metadata": {},
   "outputs": [],
   "source": [
    "dataset['grad_school'] = (dataset['education'] == 1).astype('int')\n",
    "dataset['university'] = (dataset['education'] == 2).astype('int')\n",
    "dataset['high_school'] = (dataset['education'] == 3).astype('int')\n",
    "dataset.drop('education', axis=1, inplace=True)"
   ]
  },
  {
   "cell_type": "code",
   "execution_count": 9,
   "id": "2be46a80",
   "metadata": {},
   "outputs": [],
   "source": [
    "dataset['male'] = (dataset['sex'] == 1).astype('int')\n",
    "dataset.drop('sex', axis=1, inplace=True)"
   ]
  },
  {
   "cell_type": "code",
   "execution_count": 10,
   "id": "61873fea",
   "metadata": {},
   "outputs": [],
   "source": [
    "dataset['married'] = (dataset['marriage'] == 1).astype('int')\n",
    "dataset['single'] = (dataset['marriage'] == 2).astype('int')\n",
    "dataset.drop('marriage', axis=1, inplace=True)\n"
   ]
  },
  {
   "cell_type": "code",
   "execution_count": 11,
   "id": "f95ed9b1",
   "metadata": {},
   "outputs": [],
   "source": [
    "# For pay features if the <=0 then it means it was not delayed"
   ]
  },
  {
   "cell_type": "code",
   "execution_count": 12,
   "id": "81e25ba1",
   "metadata": {},
   "outputs": [],
   "source": [
    "pay_features = ['pay_0', 'pay_2', 'pay_3', 'pay_4', 'pay_5', 'pay_6']\n",
    "for p in pay_features:\n",
    "    dataset.loc[dataset[p] <= 0, p] = 0"
   ]
  },
  {
   "cell_type": "code",
   "execution_count": 13,
   "id": "75851dec",
   "metadata": {},
   "outputs": [],
   "source": [
    "target_name = 'isDefault'\n",
    "X = dataset.drop(target_name, axis=1)\n",
    "# Robust Scaler for scaling different values into proper scale\n",
    "robust_scaler = RobustScaler()\n",
    "X = robust_scaler.fit_transform(X)\n",
    "y = dataset[target_name]\n",
    "X_train, X_test, y_train, y_test = train_test_split(X, y, test_size=0.40, random_state=15, stratify=y)\n"
   ]
  },
  {
   "cell_type": "code",
   "execution_count": 14,
   "id": "1f6980f5",
   "metadata": {},
   "outputs": [],
   "source": [
    "# Defining a confusion matrix"
   ]
  },
  {
   "cell_type": "code",
   "execution_count": 15,
   "id": "df0412f4",
   "metadata": {},
   "outputs": [],
   "source": [
    "def CMatrix(CM, labels=['non-defaulter', 'defaulter']):\n",
    "    df = pd.DataFrame(data=CM, index=labels, columns=labels)\n",
    "    df.index.name = 'TRUE'\n",
    "    df.columns.name = 'PREDICTION'\n",
    "    df.loc['Total'] = df.sum()\n",
    "    df['Total'] = df.sum(axis=1)\n",
    "    return df\n",
    "\n",
    "metrics = pd.DataFrame(index=['accuracy', 'precision', 'recall'],\n",
    "                       columns=['LogisticReg', 'DTree', 'SVM'])"
   ]
  },
  {
   "cell_type": "code",
   "execution_count": 16,
   "id": "76c8b18d",
   "metadata": {},
   "outputs": [],
   "source": [
    "# Defining all the classifiers\n",
    "## Logistic Regression"
   ]
  },
  {
   "cell_type": "code",
   "execution_count": 17,
   "id": "3656d098",
   "metadata": {},
   "outputs": [
    {
     "name": "stdout",
     "output_type": "stream",
     "text": [
      "\n",
      " Logistic Regression - confusion matrix \n",
      " PREDICTION     non-defaulter  defaulter  Total\n",
      "TRUE                                          \n",
      "non-defaulter           8926        420   9346\n",
      "defaulter               1805        849   2654\n",
      "Total                  10731       1269  12000\n",
      "\n",
      " Logistic Regression - classification report \n",
      "               precision    recall  f1-score   support\n",
      "\n",
      "           0       0.83      0.96      0.89      9346\n",
      "           1       0.67      0.32      0.43      2654\n",
      "\n",
      "    accuracy                           0.81     12000\n",
      "   macro avg       0.75      0.64      0.66     12000\n",
      "weighted avg       0.80      0.81      0.79     12000\n",
      "\n"
     ]
    }
   ],
   "source": [
    "LogisticReg = LogisticRegression(random_state=15, max_iter=500)\n",
    "LogisticReg.fit(X_train, y_train)\n",
    "y_predict = LogisticReg.predict(X_test)\n",
    "CM = confusion_matrix(y_test, y_predict)\n",
    "metrics.loc['accuracy', 'LogisticReg'] = accuracy_score(y_test, y_predict)\n",
    "metrics.loc['precision', 'LogisticReg'] = precision_score(y_test, y_predict)\n",
    "metrics.loc['recall', 'LogisticReg'] = recall_score(y_test, y_predict)\n",
    "print(\"\\n Logistic Regression - confusion matrix \\n\", CMatrix(CM))\n",
    "print(\"\\n Logistic Regression - classification report \\n\", classification_report(y_test, y_predict))\n"
   ]
  },
  {
   "cell_type": "code",
   "execution_count": 18,
   "id": "054b927e",
   "metadata": {},
   "outputs": [],
   "source": [
    "## Decision Tree"
   ]
  },
  {
   "cell_type": "code",
   "execution_count": 19,
   "id": "87bf4925",
   "metadata": {},
   "outputs": [
    {
     "name": "stdout",
     "output_type": "stream",
     "text": [
      "\n",
      " Decision Tree - confusion matrix \n",
      " PREDICTION     non-defaulter  defaulter  Total\n",
      "TRUE                                          \n",
      "non-defaulter           7577       1769   9346\n",
      "defaulter               1592       1062   2654\n",
      "Total                   9169       2831  12000\n",
      "\n",
      " Decision Tree - classification report \n",
      "               precision    recall  f1-score   support\n",
      "\n",
      "           0       0.83      0.81      0.82      9346\n",
      "           1       0.38      0.40      0.39      2654\n",
      "\n",
      "    accuracy                           0.72     12000\n",
      "   macro avg       0.60      0.61      0.60     12000\n",
      "weighted avg       0.73      0.72      0.72     12000\n",
      "\n"
     ]
    }
   ],
   "source": [
    "DTree = DecisionTreeClassifier(random_state=15)\n",
    "DTree.fit(X_train, y_train)\n",
    "y_predict = DTree.predict(X_test)\n",
    "CM = confusion_matrix(y_test, y_predict)\n",
    "metrics.loc['accuracy', 'DTree'] = accuracy_score(y_test, y_predict)\n",
    "metrics.loc['precision', 'DTree'] = precision_score(y_test, y_predict)\n",
    "metrics.loc['recall', 'DTree'] = recall_score(y_test, y_predict)\n",
    "print(\"\\n Decision Tree - confusion matrix \\n\", CMatrix(CM))\n",
    "print(\"\\n Decision Tree - classification report \\n\", classification_report(y_test, y_predict))"
   ]
  },
  {
   "cell_type": "code",
   "execution_count": 20,
   "id": "f92cd069",
   "metadata": {},
   "outputs": [
    {
     "name": "stdout",
     "output_type": "stream",
     "text": [
      "\n",
      " SVM - confusion matrix \n",
      " PREDICTION     non-defaulter  defaulter  Total\n",
      "TRUE                                          \n",
      "non-defaulter           8965        381   9346\n",
      "defaulter               1826        828   2654\n",
      "Total                  10791       1209  12000\n",
      "\n",
      " SVM - classification report \n",
      "               precision    recall  f1-score   support\n",
      "\n",
      "           0       0.83      0.96      0.89      9346\n",
      "           1       0.68      0.31      0.43      2654\n",
      "\n",
      "    accuracy                           0.82     12000\n",
      "   macro avg       0.76      0.64      0.66     12000\n",
      "weighted avg       0.80      0.82      0.79     12000\n",
      "\n"
     ]
    }
   ],
   "source": [
    "## SVM\n",
    "SVM = SVC(random_state=15)\n",
    "SVM.fit(X_train, y_train)\n",
    "y_predict = SVM.predict(X_test)\n",
    "CM = confusion_matrix(y_test, y_predict)\n",
    "metrics.loc['accuracy', 'SVM'] = accuracy_score(y_test, y_predict)\n",
    "metrics.loc['precision', 'SVM'] = precision_score(y_test, y_predict)\n",
    "metrics.loc['recall', 'SVM'] = recall_score(y_test, y_predict)\n",
    "print(\"\\n SVM - confusion matrix \\n\", CMatrix(CM))\n",
    "print(\"\\n SVM - classification report \\n\", classification_report(y_test, y_predict))\n"
   ]
  },
  {
   "cell_type": "code",
   "execution_count": 21,
   "id": "3f15eab4",
   "metadata": {},
   "outputs": [
    {
     "name": "stdout",
     "output_type": "stream",
     "text": [
      "Voting Classifier\n",
      "\n"
     ]
    }
   ],
   "source": [
    "print('Voting Classifier\\n')"
   ]
  },
  {
   "cell_type": "code",
   "execution_count": 22,
   "id": "26a2be37",
   "metadata": {},
   "outputs": [
    {
     "name": "stdout",
     "output_type": "stream",
     "text": [
      "Voting Classifier\n",
      "\n",
      "          LogisticReg     DTree       SVM  Voting_Classifier\n",
      "accuracy     0.814583  0.719917  0.816083           0.815250\n",
      "precision    0.669031  0.375132  0.684864           0.672727\n",
      "recall       0.319894  0.400151  0.311982           0.320648\n"
     ]
    },
    {
     "data": {
      "text/html": [
       "<div>\n",
       "<style scoped>\n",
       "    .dataframe tbody tr th:only-of-type {\n",
       "        vertical-align: middle;\n",
       "    }\n",
       "\n",
       "    .dataframe tbody tr th {\n",
       "        vertical-align: top;\n",
       "    }\n",
       "\n",
       "    .dataframe thead th {\n",
       "        text-align: right;\n",
       "    }\n",
       "</style>\n",
       "<table border=\"1\" class=\"dataframe\">\n",
       "  <thead>\n",
       "    <tr style=\"text-align: right;\">\n",
       "      <th>PREDICTION</th>\n",
       "      <th>non-defaulter</th>\n",
       "      <th>defaulter</th>\n",
       "      <th>Total</th>\n",
       "    </tr>\n",
       "    <tr>\n",
       "      <th>TRUE</th>\n",
       "      <th></th>\n",
       "      <th></th>\n",
       "      <th></th>\n",
       "    </tr>\n",
       "  </thead>\n",
       "  <tbody>\n",
       "    <tr>\n",
       "      <th>non-defaulter</th>\n",
       "      <td>8932</td>\n",
       "      <td>414</td>\n",
       "      <td>9346</td>\n",
       "    </tr>\n",
       "    <tr>\n",
       "      <th>defaulter</th>\n",
       "      <td>1803</td>\n",
       "      <td>851</td>\n",
       "      <td>2654</td>\n",
       "    </tr>\n",
       "    <tr>\n",
       "      <th>Total</th>\n",
       "      <td>10735</td>\n",
       "      <td>1265</td>\n",
       "      <td>12000</td>\n",
       "    </tr>\n",
       "  </tbody>\n",
       "</table>\n",
       "</div>"
      ],
      "text/plain": [
       "PREDICTION     non-defaulter  defaulter  Total\n",
       "TRUE                                          \n",
       "non-defaulter           8932        414   9346\n",
       "defaulter               1803        851   2654\n",
       "Total                  10735       1265  12000"
      ]
     },
     "execution_count": 22,
     "metadata": {},
     "output_type": "execute_result"
    }
   ],
   "source": [
    "print('Voting Classifier\\n')\n",
    "\n",
    "classifiers = [('LogisticReg', LogisticReg), ('DecisionTree', DTree), ('SVM', SVM)]\n",
    "\n",
    "VC = VotingClassifier(estimators=classifiers, voting='hard')\n",
    "\n",
    "VC.fit(X_train, y_train)\n",
    "pred_train_VC = VC.predict(X_train)\n",
    "pred_test_VC = VC.predict(X_test)\n",
    "cm_VC = confusion_matrix(y_test, pred_test_VC)\n",
    "\n",
    "metrics.loc['accuracy', 'Voting_Classifier'] = accuracy_score(y_test, pred_test_VC)\n",
    "metrics.loc['precision', 'Voting_Classifier'] = precision_score(y_test, pred_test_VC)\n",
    "metrics.loc['recall', 'Voting_Classifier'] = recall_score(y_test, pred_test_VC)\n",
    "\n",
    "print(metrics)\n",
    "CMatrix(cm_VC)"
   ]
  },
  {
   "cell_type": "code",
   "execution_count": 23,
   "id": "501a169d",
   "metadata": {},
   "outputs": [
    {
     "data": {
      "image/png": "[encoded data removed]",
      "text/plain": [
       "<Figure size 720x504 with 1 Axes>"
      ]
     },
     "metadata": {
      "needs_background": "light"
     },
     "output_type": "display_data"
    }
   ],
   "source": [
    "import matplotlib.pyplot as plt\n",
    "fig, ax = plt.subplots(figsize=(10, 7))\n",
    "metrics.plot(kind='barh', ax=ax)\n",
    "ax.grid()\n"
   ]
  },
  {
   "cell_type": "code",
   "execution_count": 24,
   "id": "0d23951e",
   "metadata": {},
   "outputs": [],
   "source": [
    "\n",
    "precision_lr, recall_lr, thresholds_lr = precision_recall_curve(\n",
    "    y_true=y_test, probas_pred=LogisticReg.predict_proba(X_test)[:, 1])\n",
    "\n",
    "precision_dt, recall_dt, thresholds_dt = precision_recall_curve(\n",
    "    y_true=y_test, probas_pred=DTree.predict_proba(X_test)[:, 1])\n",
    "\n",
    "precision_vc, recall_vc, thresholds_vc = precision_recall_curve(\n",
    "    y_true=y_test, probas_pred=pred_test_VC)"
   ]
  },
  {
   "cell_type": "code",
   "execution_count": 25,
   "id": "4e3f089a",
   "metadata": {},
   "outputs": [
    {
     "data": {
      "image/png": "[encoded data removed]",
      "text/plain": [
       "<Figure size 720x504 with 1 Axes>"
      ]
     },
     "metadata": {
      "needs_background": "light"
     },
     "output_type": "display_data"
    }
   ],
   "source": [
    "fig, ax = plt.subplots(figsize=(10, 7))\n",
    "ax.plot(precision_lr, recall_lr, label='LogisticReg')\n",
    "ax.plot(precision_dt, recall_dt, label='DecisionTree')\n",
    "ax.plot(precision_vc, recall_vc, label='Voting Classifier')\n",
    "ax.set_xlabel('Precision')\n",
    "ax.set_ylabel('Recall')\n",
    "ax.set_title('Precision-Recall Curve')\n",
    "ax.legend()\n",
    "\n",
    "plt.show()"
   ]
  },
  {
   "cell_type": "code",
   "execution_count": 26,
   "id": "e41360d4",
   "metadata": {},
   "outputs": [
    {
     "data": {
      "image/png": "[encoded data removed]",
      "text/plain": [
       "<Figure size 432x288 with 1 Axes>"
      ]
     },
     "metadata": {
      "needs_background": "light"
     },
     "output_type": "display_data"
    }
   ],
   "source": [
    "import matplotlib.pyplot as plt\n",
    "\n",
    "# Sample data for algorithm names and accuracy values\n",
    "algorithm_names = ['LogisticReg', 'DTree', 'SVM']\n",
    "accuracy_values = [0.85, 0.76, 0.88]\n",
    "\n",
    "# Create a bar chart\n",
    "plt.bar(algorithm_names, accuracy_values)\n",
    "\n",
    "# Set the title and labels for the chart\n",
    "plt.title('Accuracy Comparison of Algorithms')\n",
    "plt.xlabel('Algorithms')\n",
    "plt.ylabel('Accuracy')\n",
    "\n",
    "# Display the chart\n",
    "plt.show()\n",
    "\n"
   ]
  },
  {
   "cell_type": "code",
   "execution_count": null,
   "id": "75e736ed",
   "metadata": {},
   "outputs": [],
   "source": []
  },
  {
   "cell_type": "code",
   "execution_count": null,
   "id": "87269c1a",
   "metadata": {},
   "outputs": [],
   "source": []
  }
 ],
 "metadata": {
  "kernelspec": {
   "display_name": "Python 3 (ipykernel)",
   "language": "python",
   "name": "python3"
  },
  "language_info": {
   "codemirror_mode": {
    "name": "ipython",
    "version": 3
   },
   "file_extension": ".py",
   "mimetype": "text/x-python",
   "name": "python",
   "nbconvert_exporter": "python",
   "pygments_lexer": "ipython3",
   "version": "3.9.7"
  }
 },
 "nbformat": 4,
 "nbformat_minor": 5
}
